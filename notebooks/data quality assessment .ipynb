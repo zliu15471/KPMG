{
 "cells": [
  {
   "cell_type": "code",
   "execution_count": 1,
   "id": "828f2a8d",
   "metadata": {},
   "outputs": [],
   "source": [
    "import pandas as pd"
   ]
  },
  {
   "cell_type": "markdown",
   "id": "b70b956e",
   "metadata": {},
   "source": [
    "# CustomerDemographic data quality assessment"
   ]
  },
  {
   "cell_type": "code",
   "execution_count": 2,
   "id": "5e5bddfc",
   "metadata": {},
   "outputs": [],
   "source": [
    "scpl_data_Customer_Demographic  =  pd.read_excel('/Users/zhenliu15471/code/zliu15471/KPMG/raw_data/KPMG_VI_New_raw_data_update_final.xlsx','CustomerDemographic')"
   ]
  },
  {
   "cell_type": "code",
   "execution_count": 3,
   "id": "f3e5a282",
   "metadata": {},
   "outputs": [
    {
     "data": {
      "text/html": [
       "<div>\n",
       "<style scoped>\n",
       "    .dataframe tbody tr th:only-of-type {\n",
       "        vertical-align: middle;\n",
       "    }\n",
       "\n",
       "    .dataframe tbody tr th {\n",
       "        vertical-align: top;\n",
       "    }\n",
       "\n",
       "    .dataframe thead th {\n",
       "        text-align: right;\n",
       "    }\n",
       "</style>\n",
       "<table border=\"1\" class=\"dataframe\">\n",
       "  <thead>\n",
       "    <tr style=\"text-align: right;\">\n",
       "      <th></th>\n",
       "      <th>Note: The data and information in this document is reflective of a hypothetical situation and client. This document is to be used for KPMG Virtual Internship purposes only.</th>\n",
       "      <th>Unnamed: 1</th>\n",
       "      <th>Unnamed: 2</th>\n",
       "      <th>Unnamed: 3</th>\n",
       "      <th>Unnamed: 4</th>\n",
       "      <th>Unnamed: 5</th>\n",
       "      <th>Unnamed: 6</th>\n",
       "      <th>Unnamed: 7</th>\n",
       "      <th>Unnamed: 8</th>\n",
       "      <th>Unnamed: 9</th>\n",
       "      <th>Unnamed: 10</th>\n",
       "      <th>Unnamed: 11</th>\n",
       "      <th>Unnamed: 12</th>\n",
       "    </tr>\n",
       "  </thead>\n",
       "  <tbody>\n",
       "    <tr>\n",
       "      <th>0</th>\n",
       "      <td>customer_id</td>\n",
       "      <td>first_name</td>\n",
       "      <td>last_name</td>\n",
       "      <td>gender</td>\n",
       "      <td>past_3_years_bike_related_purchases</td>\n",
       "      <td>DOB</td>\n",
       "      <td>job_title</td>\n",
       "      <td>job_industry_category</td>\n",
       "      <td>wealth_segment</td>\n",
       "      <td>deceased_indicator</td>\n",
       "      <td>default</td>\n",
       "      <td>owns_car</td>\n",
       "      <td>tenure</td>\n",
       "    </tr>\n",
       "    <tr>\n",
       "      <th>1</th>\n",
       "      <td>1</td>\n",
       "      <td>Laraine</td>\n",
       "      <td>Medendorp</td>\n",
       "      <td>F</td>\n",
       "      <td>93</td>\n",
       "      <td>1953-10-12 00:00:00</td>\n",
       "      <td>Executive Secretary</td>\n",
       "      <td>Health</td>\n",
       "      <td>Mass Customer</td>\n",
       "      <td>N</td>\n",
       "      <td>\"'</td>\n",
       "      <td>Yes</td>\n",
       "      <td>11</td>\n",
       "    </tr>\n",
       "    <tr>\n",
       "      <th>2</th>\n",
       "      <td>2</td>\n",
       "      <td>Eli</td>\n",
       "      <td>Bockman</td>\n",
       "      <td>Male</td>\n",
       "      <td>81</td>\n",
       "      <td>1980-12-16 00:00:00</td>\n",
       "      <td>Administrative Officer</td>\n",
       "      <td>Financial Services</td>\n",
       "      <td>Mass Customer</td>\n",
       "      <td>N</td>\n",
       "      <td>&lt;script&gt;alert('hi')&lt;/script&gt;</td>\n",
       "      <td>Yes</td>\n",
       "      <td>16</td>\n",
       "    </tr>\n",
       "    <tr>\n",
       "      <th>3</th>\n",
       "      <td>3</td>\n",
       "      <td>Arlin</td>\n",
       "      <td>Dearle</td>\n",
       "      <td>Male</td>\n",
       "      <td>61</td>\n",
       "      <td>1954-01-20 00:00:00</td>\n",
       "      <td>Recruiting Manager</td>\n",
       "      <td>Property</td>\n",
       "      <td>Mass Customer</td>\n",
       "      <td>N</td>\n",
       "      <td>2018-02-01 00:00:00</td>\n",
       "      <td>Yes</td>\n",
       "      <td>15</td>\n",
       "    </tr>\n",
       "    <tr>\n",
       "      <th>4</th>\n",
       "      <td>4</td>\n",
       "      <td>Talbot</td>\n",
       "      <td>NaN</td>\n",
       "      <td>Male</td>\n",
       "      <td>33</td>\n",
       "      <td>1961-10-03 00:00:00</td>\n",
       "      <td>NaN</td>\n",
       "      <td>IT</td>\n",
       "      <td>Mass Customer</td>\n",
       "      <td>N</td>\n",
       "      <td>() { _; } &gt;_[$($())] { touch /tmp/blns.shellsh...</td>\n",
       "      <td>No</td>\n",
       "      <td>7</td>\n",
       "    </tr>\n",
       "  </tbody>\n",
       "</table>\n",
       "</div>"
      ],
      "text/plain": [
       "  Note: The data and information in this document is reflective of a hypothetical situation and client. This document is to be used for KPMG Virtual Internship purposes only.   \\\n",
       "0                                        customer_id                                                                                                                              \n",
       "1                                                  1                                                                                                                              \n",
       "2                                                  2                                                                                                                              \n",
       "3                                                  3                                                                                                                              \n",
       "4                                                  4                                                                                                                              \n",
       "\n",
       "   Unnamed: 1 Unnamed: 2 Unnamed: 3                           Unnamed: 4  \\\n",
       "0  first_name  last_name     gender  past_3_years_bike_related_purchases   \n",
       "1     Laraine  Medendorp          F                                   93   \n",
       "2         Eli    Bockman       Male                                   81   \n",
       "3       Arlin     Dearle       Male                                   61   \n",
       "4      Talbot        NaN       Male                                   33   \n",
       "\n",
       "            Unnamed: 5              Unnamed: 6             Unnamed: 7  \\\n",
       "0                  DOB               job_title  job_industry_category   \n",
       "1  1953-10-12 00:00:00     Executive Secretary                 Health   \n",
       "2  1980-12-16 00:00:00  Administrative Officer     Financial Services   \n",
       "3  1954-01-20 00:00:00      Recruiting Manager               Property   \n",
       "4  1961-10-03 00:00:00                     NaN                     IT   \n",
       "\n",
       "       Unnamed: 8          Unnamed: 9  \\\n",
       "0  wealth_segment  deceased_indicator   \n",
       "1   Mass Customer                   N   \n",
       "2   Mass Customer                   N   \n",
       "3   Mass Customer                   N   \n",
       "4   Mass Customer                   N   \n",
       "\n",
       "                                         Unnamed: 10 Unnamed: 11 Unnamed: 12  \n",
       "0                                            default    owns_car      tenure  \n",
       "1                                                 \"'         Yes          11  \n",
       "2                       <script>alert('hi')</script>         Yes          16  \n",
       "3                                2018-02-01 00:00:00         Yes          15  \n",
       "4  () { _; } >_[$($())] { touch /tmp/blns.shellsh...          No           7  "
      ]
     },
     "execution_count": 3,
     "metadata": {},
     "output_type": "execute_result"
    }
   ],
   "source": [
    "scpl_data_Customer_Demographic.head()"
   ]
  },
  {
   "cell_type": "markdown",
   "id": "d4a78a74",
   "metadata": {},
   "source": [
    "## corrrect values (accuracy)"
   ]
  },
  {
   "cell_type": "code",
   "execution_count": 4,
   "id": "75f3ac4b",
   "metadata": {},
   "outputs": [
    {
     "name": "stderr",
     "output_type": "stream",
     "text": [
      "/var/folders/4y/7vss76ld1rj1ybqx7xpskc5m0000gn/T/ipykernel_45118/2244132357.py:2: FutureWarning: Inferring datetime64[ns] from data containing strings is deprecated and will be removed in a future version. To retain the old behavior explicitly pass Series(data, dtype={value.dtype})\n",
      "  new_df  = pd.DataFrame(scpl_data_Customer_Demographic.values[1:], columns=headers)\n"
     ]
    }
   ],
   "source": [
    "headers = scpl_data_Customer_Demographic.iloc[0]\n",
    "new_df  = pd.DataFrame(scpl_data_Customer_Demographic.values[1:], columns=headers)"
   ]
  },
  {
   "cell_type": "code",
   "execution_count": 5,
   "id": "a9791049",
   "metadata": {},
   "outputs": [
    {
     "data": {
      "text/html": [
       "<div>\n",
       "<style scoped>\n",
       "    .dataframe tbody tr th:only-of-type {\n",
       "        vertical-align: middle;\n",
       "    }\n",
       "\n",
       "    .dataframe tbody tr th {\n",
       "        vertical-align: top;\n",
       "    }\n",
       "\n",
       "    .dataframe thead th {\n",
       "        text-align: right;\n",
       "    }\n",
       "</style>\n",
       "<table border=\"1\" class=\"dataframe\">\n",
       "  <thead>\n",
       "    <tr style=\"text-align: right;\">\n",
       "      <th></th>\n",
       "      <th>customer_id</th>\n",
       "      <th>first_name</th>\n",
       "      <th>last_name</th>\n",
       "      <th>gender</th>\n",
       "      <th>past_3_years_bike_related_purchases</th>\n",
       "      <th>DOB</th>\n",
       "      <th>job_title</th>\n",
       "      <th>job_industry_category</th>\n",
       "      <th>wealth_segment</th>\n",
       "      <th>deceased_indicator</th>\n",
       "      <th>default</th>\n",
       "      <th>owns_car</th>\n",
       "      <th>tenure</th>\n",
       "    </tr>\n",
       "  </thead>\n",
       "  <tbody>\n",
       "    <tr>\n",
       "      <th>0</th>\n",
       "      <td>1</td>\n",
       "      <td>Laraine</td>\n",
       "      <td>Medendorp</td>\n",
       "      <td>F</td>\n",
       "      <td>93</td>\n",
       "      <td>1953-10-12</td>\n",
       "      <td>Executive Secretary</td>\n",
       "      <td>Health</td>\n",
       "      <td>Mass Customer</td>\n",
       "      <td>N</td>\n",
       "      <td>\"'</td>\n",
       "      <td>Yes</td>\n",
       "      <td>11</td>\n",
       "    </tr>\n",
       "    <tr>\n",
       "      <th>1</th>\n",
       "      <td>2</td>\n",
       "      <td>Eli</td>\n",
       "      <td>Bockman</td>\n",
       "      <td>Male</td>\n",
       "      <td>81</td>\n",
       "      <td>1980-12-16</td>\n",
       "      <td>Administrative Officer</td>\n",
       "      <td>Financial Services</td>\n",
       "      <td>Mass Customer</td>\n",
       "      <td>N</td>\n",
       "      <td>&lt;script&gt;alert('hi')&lt;/script&gt;</td>\n",
       "      <td>Yes</td>\n",
       "      <td>16</td>\n",
       "    </tr>\n",
       "    <tr>\n",
       "      <th>2</th>\n",
       "      <td>3</td>\n",
       "      <td>Arlin</td>\n",
       "      <td>Dearle</td>\n",
       "      <td>Male</td>\n",
       "      <td>61</td>\n",
       "      <td>1954-01-20</td>\n",
       "      <td>Recruiting Manager</td>\n",
       "      <td>Property</td>\n",
       "      <td>Mass Customer</td>\n",
       "      <td>N</td>\n",
       "      <td>2018-02-01 00:00:00</td>\n",
       "      <td>Yes</td>\n",
       "      <td>15</td>\n",
       "    </tr>\n",
       "    <tr>\n",
       "      <th>3</th>\n",
       "      <td>4</td>\n",
       "      <td>Talbot</td>\n",
       "      <td>NaN</td>\n",
       "      <td>Male</td>\n",
       "      <td>33</td>\n",
       "      <td>1961-10-03</td>\n",
       "      <td>NaN</td>\n",
       "      <td>IT</td>\n",
       "      <td>Mass Customer</td>\n",
       "      <td>N</td>\n",
       "      <td>() { _; } &gt;_[$($())] { touch /tmp/blns.shellsh...</td>\n",
       "      <td>No</td>\n",
       "      <td>7</td>\n",
       "    </tr>\n",
       "    <tr>\n",
       "      <th>4</th>\n",
       "      <td>5</td>\n",
       "      <td>Sheila-kathryn</td>\n",
       "      <td>Calton</td>\n",
       "      <td>Female</td>\n",
       "      <td>56</td>\n",
       "      <td>1977-05-13</td>\n",
       "      <td>Senior Editor</td>\n",
       "      <td>NaN</td>\n",
       "      <td>Affluent Customer</td>\n",
       "      <td>N</td>\n",
       "      <td>NIL</td>\n",
       "      <td>Yes</td>\n",
       "      <td>8</td>\n",
       "    </tr>\n",
       "  </tbody>\n",
       "</table>\n",
       "</div>"
      ],
      "text/plain": [
       "0 customer_id      first_name  last_name  gender  \\\n",
       "0           1         Laraine  Medendorp       F   \n",
       "1           2             Eli    Bockman    Male   \n",
       "2           3           Arlin     Dearle    Male   \n",
       "3           4          Talbot        NaN    Male   \n",
       "4           5  Sheila-kathryn     Calton  Female   \n",
       "\n",
       "0 past_3_years_bike_related_purchases        DOB               job_title  \\\n",
       "0                                  93 1953-10-12     Executive Secretary   \n",
       "1                                  81 1980-12-16  Administrative Officer   \n",
       "2                                  61 1954-01-20      Recruiting Manager   \n",
       "3                                  33 1961-10-03                     NaN   \n",
       "4                                  56 1977-05-13           Senior Editor   \n",
       "\n",
       "0 job_industry_category     wealth_segment deceased_indicator  \\\n",
       "0                Health      Mass Customer                  N   \n",
       "1    Financial Services      Mass Customer                  N   \n",
       "2              Property      Mass Customer                  N   \n",
       "3                    IT      Mass Customer                  N   \n",
       "4                   NaN  Affluent Customer                  N   \n",
       "\n",
       "0                                            default owns_car tenure  \n",
       "0                                                 \"'      Yes     11  \n",
       "1                       <script>alert('hi')</script>      Yes     16  \n",
       "2                                2018-02-01 00:00:00      Yes     15  \n",
       "3  () { _; } >_[$($())] { touch /tmp/blns.shellsh...       No      7  \n",
       "4                                                NIL      Yes      8  "
      ]
     },
     "execution_count": 5,
     "metadata": {},
     "output_type": "execute_result"
    }
   ],
   "source": [
    "new_df.head()"
   ]
  },
  {
   "cell_type": "code",
   "execution_count": 6,
   "id": "999ce7b7",
   "metadata": {},
   "outputs": [
    {
     "data": {
      "text/plain": [
       "(4000, 13)"
      ]
     },
     "execution_count": 6,
     "metadata": {},
     "output_type": "execute_result"
    }
   ],
   "source": [
    "new_df.shape"
   ]
  },
  {
   "cell_type": "code",
   "execution_count": 7,
   "id": "137db4fb",
   "metadata": {},
   "outputs": [
    {
     "name": "stderr",
     "output_type": "stream",
     "text": [
      "/var/folders/4y/7vss76ld1rj1ybqx7xpskc5m0000gn/T/ipykernel_45118/3143706273.py:1: FutureWarning: Treating datetime data as categorical rather than numeric in `.describe` is deprecated and will be removed in a future version of pandas. Specify `datetime_is_numeric=True` to silence this warning and adopt the future behavior now.\n",
      "  new_df.describe()\n"
     ]
    },
    {
     "data": {
      "text/html": [
       "<div>\n",
       "<style scoped>\n",
       "    .dataframe tbody tr th:only-of-type {\n",
       "        vertical-align: middle;\n",
       "    }\n",
       "\n",
       "    .dataframe tbody tr th {\n",
       "        vertical-align: top;\n",
       "    }\n",
       "\n",
       "    .dataframe thead th {\n",
       "        text-align: right;\n",
       "    }\n",
       "</style>\n",
       "<table border=\"1\" class=\"dataframe\">\n",
       "  <thead>\n",
       "    <tr style=\"text-align: right;\">\n",
       "      <th></th>\n",
       "      <th>customer_id</th>\n",
       "      <th>first_name</th>\n",
       "      <th>last_name</th>\n",
       "      <th>gender</th>\n",
       "      <th>past_3_years_bike_related_purchases</th>\n",
       "      <th>DOB</th>\n",
       "      <th>job_title</th>\n",
       "      <th>job_industry_category</th>\n",
       "      <th>wealth_segment</th>\n",
       "      <th>deceased_indicator</th>\n",
       "      <th>default</th>\n",
       "      <th>owns_car</th>\n",
       "      <th>tenure</th>\n",
       "    </tr>\n",
       "  </thead>\n",
       "  <tbody>\n",
       "    <tr>\n",
       "      <th>count</th>\n",
       "      <td>4000.0</td>\n",
       "      <td>4000</td>\n",
       "      <td>3875</td>\n",
       "      <td>4000</td>\n",
       "      <td>4000.0</td>\n",
       "      <td>3913</td>\n",
       "      <td>3494</td>\n",
       "      <td>3344</td>\n",
       "      <td>4000</td>\n",
       "      <td>4000</td>\n",
       "      <td>3698.0</td>\n",
       "      <td>4000</td>\n",
       "      <td>3913.0</td>\n",
       "    </tr>\n",
       "    <tr>\n",
       "      <th>unique</th>\n",
       "      <td>4000.0</td>\n",
       "      <td>3139</td>\n",
       "      <td>3725</td>\n",
       "      <td>6</td>\n",
       "      <td>100.0</td>\n",
       "      <td>3448</td>\n",
       "      <td>195</td>\n",
       "      <td>9</td>\n",
       "      <td>3</td>\n",
       "      <td>2</td>\n",
       "      <td>90.0</td>\n",
       "      <td>2</td>\n",
       "      <td>22.0</td>\n",
       "    </tr>\n",
       "    <tr>\n",
       "      <th>top</th>\n",
       "      <td>1.0</td>\n",
       "      <td>Max</td>\n",
       "      <td>Pristnor</td>\n",
       "      <td>Female</td>\n",
       "      <td>16.0</td>\n",
       "      <td>1978-01-30 00:00:00</td>\n",
       "      <td>Business Systems Development Analyst</td>\n",
       "      <td>Manufacturing</td>\n",
       "      <td>Mass Customer</td>\n",
       "      <td>N</td>\n",
       "      <td>100.0</td>\n",
       "      <td>Yes</td>\n",
       "      <td>7.0</td>\n",
       "    </tr>\n",
       "    <tr>\n",
       "      <th>freq</th>\n",
       "      <td>1.0</td>\n",
       "      <td>5</td>\n",
       "      <td>3</td>\n",
       "      <td>2037</td>\n",
       "      <td>56.0</td>\n",
       "      <td>7</td>\n",
       "      <td>45</td>\n",
       "      <td>799</td>\n",
       "      <td>2000</td>\n",
       "      <td>3998</td>\n",
       "      <td>113.0</td>\n",
       "      <td>2024</td>\n",
       "      <td>235.0</td>\n",
       "    </tr>\n",
       "    <tr>\n",
       "      <th>first</th>\n",
       "      <td>NaN</td>\n",
       "      <td>NaN</td>\n",
       "      <td>NaN</td>\n",
       "      <td>NaN</td>\n",
       "      <td>NaN</td>\n",
       "      <td>1843-12-21 00:00:00</td>\n",
       "      <td>NaN</td>\n",
       "      <td>NaN</td>\n",
       "      <td>NaN</td>\n",
       "      <td>NaN</td>\n",
       "      <td>NaN</td>\n",
       "      <td>NaN</td>\n",
       "      <td>NaN</td>\n",
       "    </tr>\n",
       "    <tr>\n",
       "      <th>last</th>\n",
       "      <td>NaN</td>\n",
       "      <td>NaN</td>\n",
       "      <td>NaN</td>\n",
       "      <td>NaN</td>\n",
       "      <td>NaN</td>\n",
       "      <td>2002-03-11 00:00:00</td>\n",
       "      <td>NaN</td>\n",
       "      <td>NaN</td>\n",
       "      <td>NaN</td>\n",
       "      <td>NaN</td>\n",
       "      <td>NaN</td>\n",
       "      <td>NaN</td>\n",
       "      <td>NaN</td>\n",
       "    </tr>\n",
       "  </tbody>\n",
       "</table>\n",
       "</div>"
      ],
      "text/plain": [
       "0       customer_id first_name last_name  gender  \\\n",
       "count        4000.0       4000      3875    4000   \n",
       "unique       4000.0       3139      3725       6   \n",
       "top             1.0        Max  Pristnor  Female   \n",
       "freq            1.0          5         3    2037   \n",
       "first           NaN        NaN       NaN     NaN   \n",
       "last            NaN        NaN       NaN     NaN   \n",
       "\n",
       "0       past_3_years_bike_related_purchases                  DOB  \\\n",
       "count                                4000.0                 3913   \n",
       "unique                                100.0                 3448   \n",
       "top                                    16.0  1978-01-30 00:00:00   \n",
       "freq                                   56.0                    7   \n",
       "first                                   NaN  1843-12-21 00:00:00   \n",
       "last                                    NaN  2002-03-11 00:00:00   \n",
       "\n",
       "0                                  job_title job_industry_category  \\\n",
       "count                                   3494                  3344   \n",
       "unique                                   195                     9   \n",
       "top     Business Systems Development Analyst         Manufacturing   \n",
       "freq                                      45                   799   \n",
       "first                                    NaN                   NaN   \n",
       "last                                     NaN                   NaN   \n",
       "\n",
       "0      wealth_segment deceased_indicator  default owns_car  tenure  \n",
       "count            4000               4000   3698.0     4000  3913.0  \n",
       "unique              3                  2     90.0        2    22.0  \n",
       "top     Mass Customer                  N    100.0      Yes     7.0  \n",
       "freq             2000               3998    113.0     2024   235.0  \n",
       "first             NaN                NaN      NaN      NaN     NaN  \n",
       "last              NaN                NaN      NaN      NaN     NaN  "
      ]
     },
     "execution_count": 7,
     "metadata": {},
     "output_type": "execute_result"
    }
   ],
   "source": [
    "new_df.describe()"
   ]
  },
  {
   "cell_type": "code",
   "execution_count": 8,
   "id": "94aab683",
   "metadata": {},
   "outputs": [
    {
     "data": {
      "text/plain": [
       "object            12\n",
       "datetime64[ns]     1\n",
       "dtype: int64"
      ]
     },
     "execution_count": 8,
     "metadata": {},
     "output_type": "execute_result"
    }
   ],
   "source": [
    "new_df.dtypes.value_counts()"
   ]
  },
  {
   "cell_type": "code",
   "execution_count": 9,
   "id": "5d092580",
   "metadata": {
    "scrolled": true
   },
   "outputs": [
    {
     "data": {
      "text/plain": [
       "0\n",
       "customer_id                            4000\n",
       "first_name                             3139\n",
       "last_name                              3725\n",
       "gender                                    6\n",
       "past_3_years_bike_related_purchases     100\n",
       "DOB                                    3448\n",
       "job_title                               195\n",
       "job_industry_category                     9\n",
       "wealth_segment                            3\n",
       "deceased_indicator                        2\n",
       "default                                  90\n",
       "owns_car                                  2\n",
       "tenure                                   22\n",
       "dtype: int64"
      ]
     },
     "execution_count": 9,
     "metadata": {},
     "output_type": "execute_result"
    }
   ],
   "source": [
    "new_df.nunique()"
   ]
  },
  {
   "cell_type": "code",
   "execution_count": 25,
   "id": "537e4fc1",
   "metadata": {},
   "outputs": [
    {
     "data": {
      "text/plain": [
       "0"
      ]
     },
     "execution_count": 25,
     "metadata": {},
     "output_type": "execute_result"
    }
   ],
   "source": [
    "new_df.duplicated().sum()"
   ]
  },
  {
   "cell_type": "code",
   "execution_count": 11,
   "id": "41fb2b0c",
   "metadata": {},
   "outputs": [
    {
     "data": {
      "text/plain": [
       "0"
      ]
     },
     "execution_count": 11,
     "metadata": {},
     "output_type": "execute_result"
    }
   ],
   "source": []
  },
  {
   "cell_type": "code",
   "execution_count": 15,
   "id": "8b56922e",
   "metadata": {},
   "outputs": [
    {
     "data": {
      "text/html": [
       "<div>\n",
       "<style scoped>\n",
       "    .dataframe tbody tr th:only-of-type {\n",
       "        vertical-align: middle;\n",
       "    }\n",
       "\n",
       "    .dataframe tbody tr th {\n",
       "        vertical-align: top;\n",
       "    }\n",
       "\n",
       "    .dataframe thead th {\n",
       "        text-align: right;\n",
       "    }\n",
       "</style>\n",
       "<table border=\"1\" class=\"dataframe\">\n",
       "  <thead>\n",
       "    <tr style=\"text-align: right;\">\n",
       "      <th></th>\n",
       "      <th>customer_id</th>\n",
       "      <th>first_name</th>\n",
       "      <th>last_name</th>\n",
       "      <th>gender</th>\n",
       "      <th>past_3_years_bike_related_purchases</th>\n",
       "      <th>DOB</th>\n",
       "      <th>job_title</th>\n",
       "      <th>job_industry_category</th>\n",
       "      <th>wealth_segment</th>\n",
       "      <th>deceased_indicator</th>\n",
       "      <th>default</th>\n",
       "      <th>owns_car</th>\n",
       "      <th>tenure</th>\n",
       "    </tr>\n",
       "  </thead>\n",
       "  <tbody>\n",
       "    <tr>\n",
       "      <th>33</th>\n",
       "      <td>34</td>\n",
       "      <td>Jephthah</td>\n",
       "      <td>Bachmann</td>\n",
       "      <td>U</td>\n",
       "      <td>59</td>\n",
       "      <td>1843-12-21</td>\n",
       "      <td>Legal Assistant</td>\n",
       "      <td>IT</td>\n",
       "      <td>Affluent Customer</td>\n",
       "      <td>N</td>\n",
       "      <td>NaN</td>\n",
       "      <td>No</td>\n",
       "      <td>20</td>\n",
       "    </tr>\n",
       "    <tr>\n",
       "      <th>719</th>\n",
       "      <td>720</td>\n",
       "      <td>Darrel</td>\n",
       "      <td>Canet</td>\n",
       "      <td>Male</td>\n",
       "      <td>67</td>\n",
       "      <td>1931-10-23</td>\n",
       "      <td>Recruiting Manager</td>\n",
       "      <td>Retail</td>\n",
       "      <td>Affluent Customer</td>\n",
       "      <td>N</td>\n",
       "      <td>1;DROP TABLE users</td>\n",
       "      <td>No</td>\n",
       "      <td>6</td>\n",
       "    </tr>\n",
       "    <tr>\n",
       "      <th>1091</th>\n",
       "      <td>1092</td>\n",
       "      <td>Katlin</td>\n",
       "      <td>Creddon</td>\n",
       "      <td>Female</td>\n",
       "      <td>56</td>\n",
       "      <td>1935-08-22</td>\n",
       "      <td>VP Quality Control</td>\n",
       "      <td>Retail</td>\n",
       "      <td>Mass Customer</td>\n",
       "      <td>N</td>\n",
       "      <td>ì¬íê³¼íì ì´íì°êµ¬ì</td>\n",
       "      <td>No</td>\n",
       "      <td>5</td>\n",
       "    </tr>\n",
       "    <tr>\n",
       "      <th>3409</th>\n",
       "      <td>3410</td>\n",
       "      <td>Merrili</td>\n",
       "      <td>Brittin</td>\n",
       "      <td>Female</td>\n",
       "      <td>93</td>\n",
       "      <td>1940-09-22</td>\n",
       "      <td>NaN</td>\n",
       "      <td>Property</td>\n",
       "      <td>Mass Customer</td>\n",
       "      <td>N</td>\n",
       "      <td>á</td>\n",
       "      <td>No</td>\n",
       "      <td>16</td>\n",
       "    </tr>\n",
       "  </tbody>\n",
       "</table>\n",
       "</div>"
      ],
      "text/plain": [
       "0    customer_id first_name last_name  gender  \\\n",
       "33            34   Jephthah  Bachmann       U   \n",
       "719          720     Darrel     Canet    Male   \n",
       "1091        1092     Katlin   Creddon  Female   \n",
       "3409        3410    Merrili   Brittin  Female   \n",
       "\n",
       "0    past_3_years_bike_related_purchases        DOB           job_title  \\\n",
       "33                                    59 1843-12-21     Legal Assistant   \n",
       "719                                   67 1931-10-23  Recruiting Manager   \n",
       "1091                                  56 1935-08-22  VP Quality Control   \n",
       "3409                                  93 1940-09-22                 NaN   \n",
       "\n",
       "0    job_industry_category     wealth_segment deceased_indicator  \\\n",
       "33                      IT  Affluent Customer                  N   \n",
       "719                 Retail  Affluent Customer                  N   \n",
       "1091                Retail      Mass Customer                  N   \n",
       "3409              Property      Mass Customer                  N   \n",
       "\n",
       "0                default owns_car tenure  \n",
       "33                   NaN       No     20  \n",
       "719   1;DROP TABLE users       No      6  \n",
       "1091  ì¬íê³¼íì ì´íì°êµ¬ì       No      5  \n",
       "3409                   á       No     16  "
      ]
     },
     "execution_count": 15,
     "metadata": {},
     "output_type": "execute_result"
    }
   ],
   "source": [
    "new_df[new_df['DOB']< '1942']"
   ]
  },
  {
   "cell_type": "code",
   "execution_count": 17,
   "id": "1fedf467",
   "metadata": {},
   "outputs": [
    {
     "data": {
      "text/plain": [
       "array(['F', 'Male', 'Female', 'U', 'Femal', 'M'], dtype=object)"
      ]
     },
     "execution_count": 17,
     "metadata": {},
     "output_type": "execute_result"
    }
   ],
   "source": [
    "new_df.gender.unique()"
   ]
  },
  {
   "cell_type": "markdown",
   "id": "c0f231e5",
   "metadata": {},
   "source": [
    "### DOB:  there is a person born in 1843, which is clearly wrong. should remove the data.\n",
    "### gender: a few errors occur in the gender like 'F', 'Femal','M'. these should be replaced by 'Male' and 'Female'\n",
    "### default: the default values are messy code, should drop them.\n"
   ]
  },
  {
   "cell_type": "markdown",
   "id": "01583469",
   "metadata": {},
   "source": [
    "## data fields with values (completeness)"
   ]
  },
  {
   "cell_type": "code",
   "execution_count": 18,
   "id": "5371786f",
   "metadata": {},
   "outputs": [
    {
     "data": {
      "text/plain": [
       "0\n",
       "customer_id                             0.000\n",
       "first_name                              0.000\n",
       "last_name                               3.125\n",
       "gender                                  0.000\n",
       "past_3_years_bike_related_purchases     0.000\n",
       "DOB                                     2.175\n",
       "job_title                              12.650\n",
       "job_industry_category                  16.400\n",
       "wealth_segment                          0.000\n",
       "deceased_indicator                      0.000\n",
       "default                                 7.550\n",
       "owns_car                                0.000\n",
       "tenure                                  2.175\n",
       "dtype: float64"
      ]
     },
     "execution_count": 18,
     "metadata": {},
     "output_type": "execute_result"
    }
   ],
   "source": [
    "(new_df.isnull().sum()/len(new_df))*100"
   ]
  },
  {
   "cell_type": "markdown",
   "id": "9df9d602",
   "metadata": {},
   "source": [
    "### there are several columns which have null values. Among them, the job_title and job_industry_category arrive 12.65% and 16.4%\n",
    "### all these null values can be filled by simple inputer."
   ]
  },
  {
   "cell_type": "markdown",
   "id": "08fd4fdf",
   "metadata": {},
   "source": [
    "## values free from contradiction (consistency)"
   ]
  },
  {
   "cell_type": "markdown",
   "id": "fec839a2",
   "metadata": {},
   "source": [
    "### the default column don't have consistency, should remove "
   ]
  },
  {
   "cell_type": "code",
   "execution_count": 19,
   "id": "ed6a18fd",
   "metadata": {},
   "outputs": [
    {
     "data": {
      "text/plain": [
       "array(['\"\\'', \"<script>alert('hi')</script>\",\n",
       "       datetime.datetime(2018, 2, 1, 0, 0),\n",
       "       '() { _; } >_[$($())] { touch /tmp/blns.shellshock2.fail; }',\n",
       "       'NIL', 'ðµ ð ð ð', 'â°â´âµâââ', '(â¯Â°â¡Â°ï¼â¯ï¸µ â»ââ»)', '0/0',\n",
       "       'ð©ð½', 'ÅâÂ´Â®â\\xa0Â¥Â¨ËÃ¸Ïââ', 'nil', -100, 'â°â´âµ', 'ð', 1e+96,\n",
       "       'ï¾ï½¥â¿ã¾â²(ï½¡ââ¿âï½¡)â±â¿ï½¥ï¾', 'Î©âÃ§ââ«ËÂµâ¤â¥Ã·',\n",
       "       'ÅâÂ´â°ËÃÂ¨ËÃâââ', 'ï¼ï¼ï¼',\n",
       "       '../../../../../../../../../../../etc/hosts',\n",
       "       '×Ö¸×Ö°×ªÖ¸×testØ§ÙØµÙØ\\xadØ§Øª Ø§ÙØªÙØ\\xadÙÙ', '<>?:\"{}|_+',\n",
       "       '\\'\\'\\'\\'\"', \",./;'[]\\\\-=\",\n",
       "       '() { 0; }; touch /tmp/blns.shellshock1.fail;',\n",
       "       'ì¬íê³¼íì ì´íì°êµ¬ì', 'testâ\\xa0testâ«',\n",
       "       '0ï¸â£ 1ï¸â£ 2ï¸â£ 3ï¸â£ 4ï¸â£ 5ï¸â£ 6ï¸â£ 7ï¸â£ 8ï¸â£ 9ï¸â£ ð',\n",
       "       nan, '!@#$%^&*()', \"'\",\n",
       "       'Ì¦HÍÌ¬Ì¤ÌÌ¤eÍ ÍÌÌ¥ÌÌ»ÍÌwÌhÌÌ¯ÍoÌÍÌÍÌ±Ì® ÒÌºÌÌÌÍWÌ·Ì¼Ì\\xadaÌºÌªÍiÌ¨ÍÍÌ\\xadÍÌ¯ÌtÌ¶Ì¼Ì®sÌÌÍÍ Ì\\xa0Ì«Ì\\xa0BÌ»ÍÍÍÍÌ³eÌµhÌµÌ¬ÍÌ«ÍiÌÌ¹ÍÌ³Ì³Ì®ÍÌ«nÍdÌ´ÌªÌÌ ÍÌ°ÍÌ©ÍÍÍÌ²TÍ¢ÍÌ¼ÍÌªhÍÍÌ®Ì»eÌ¬ÌÍÌ Ì¤Ì¹ÌWÍÍÍÌÌÍÍaÍÍÍÌ¹Ì¼',\n",
       "       '../../../../../../../../../../../etc/passwd%00', 'åè£½æ¼¢èª',\n",
       "       '`ââ¬â¹âºï¬ï¬â¡Â°Â·ââÂ±', 'ãã¼ãã£ã¼ã¸è¡ããªãã', 1, -0.5,\n",
       "       'ZÌ®ÌÍÌ\\xa0ÍÍAÌ¥ÌÌÍÌ»ÌLÌ£ÍÍÌ¯Ì¹ÌÍGÌ»OÌ\\xadÌÌ®', 'ã', 100,\n",
       "       '1;DROP TABLE users', -1, 'á', '(ï¾à²¥çà²¥ï¼ï¾ï»¿ â»ââ»', '00ËÆ$-',\n",
       "       '1/0', 'ï½ï½¨(Â´âï½â©', \"<svg><script>0<1>alert('XSS')</script>\",\n",
       "       'âââ', 'ã»(ï¿£âï¿£)ã»:*:', ',ãã»:*:ã»ãâ( â» Ï â» )ãã»:*:ã»ãâ',\n",
       "       'â¢', 'ç°ä¸\\xadããã«ããã¦ä¸ãã', '__ï¾(,_,*)', 'Ù¡Ù¢Ù£',\n",
       "       'Ø«Ù ÙÙØ³ Ø³ÙØ·Øª ÙØ¨Ø§ÙØªØ\\xadØ¯ÙØ¯Ø, Ø¬Ø²ÙØ±ØªÙ Ø¨Ø§Ø³ØªØ®Ø¯Ø§Ù Ø£Ù Ø¯ÙÙ. Ø¥Ø° ÙÙØ§Ø Ø§ÙØ³ØªØ§Ø± ÙØªÙØµÙØ¨ ÙØ§Ù. Ø£ÙÙÙ Ø§ÙØ·Ø§ÙÙØ§Ø Ø¨Ø±ÙØ·Ø§ÙÙØ§-ÙØ±ÙØ³Ø§ ÙØ¯ Ø£Ø®Ø°. Ø³ÙÙÙØ§ÙØ Ø¥ØªÙØ§ÙÙØ© Ø¨ÙÙ ÙØ§, ÙØ°ÙØ± Ø',\n",
       "       'ð¾ ð ð ð ð ð ð ð§', \"<img src=x onerror=alert('hi') />\",\n",
       "       'ã½à¼¼àºÙÍàºà¼½ï¾ ã½à¼¼àºÙÍàºà¼½ï¾', 'âð¿ ðªð¿ ðð¿ ðð¿ ðð¿ ðð¿',\n",
       "       'TÌÌ\\xadÌºÌºoÍ Ì·iÌ²Ì¬ÍÌªÍnÌÌÍvÍÌÌÌÌ¦oÌ¶ÌÌ°Ì\\xa0keÍÍÌ®ÌºÌªÌ¹Ì±Ì¤ ÌtÍÌÍÌ³Ì£Ì»ÌªhÌ¼ÍÌ²Ì¦Ì³ÌÌ²eÍÌ£Ì°Ì¦Ì¬Í Ì¢Ì¼Ì»Ì±ÌhÍÍÍÍÌÌ£Ì²iÌ¦Ì²Ì£Ì°Ì¤vÌ»ÍeÌºÌ\\xadÌ³ÌªÌ°-mÌ¢iÍnÌÌºÌÌ²Ì¯Ì°dÌµÌ¼ÌÍÌ©Ì¼ÌÌ³ ÌÌ¥Ì±Ì³Ì\\xadrÌÌÌeÍpÍ\\xa0rÌ¼ÌÌ»Ì\\xadÌeÍÌºÌ\\xa0Ì£sÌ',\n",
       "       'ÃÃÃÃËÃÃï£¿ÃÃÃâ', '(ï½¡â â âï½¡)', 'é¨è½æ\\xa0¼',\n",
       "       \"ËÉnbá´lÉ ÉuÆÉÉ¯ ÇÉ¹olop ÊÇ ÇÉ¹oqÉl Ên Êunpá´pá´Éuá´ É¹odÉ¯ÇÊ poÉ¯sná´Ç op pÇs 'Êá´lÇ Æuá´Ésá´dá´pÉ É¹nÊÇÊÉÇsuoÉ 'ÊÇÉ¯É Êá´s É¹olop É¯nsdá´ É¯ÇÉ¹oË¥\",\n",
       "       'á\\xa0',\n",
       "       '×Ö¼Ö°×¨Öµ××©×Ö´××ª, ×Ö¼Ö¸×¨Ö¸× ×Ö±×Ö¹×Ö´××, ×Öµ×ª ×Ö·×©Ö¼×Ö¸×Ö·×Ö´×, ×Ö°×Öµ×ª ×Ö¸×Ö¸×¨Ö¶×¥',\n",
       "       'Â¡â¢Â£Â¢âÂ§Â¶â¢ÂªÂºââ\\xa0',\n",
       "       '/dev/null; touch /tmp/blns.fail ; echo', \"1'; DROP TABLE users--\",\n",
       "       'ð¾ ð ð ð ð ð ð ð',\n",
       "       'Ì¡ÍÍÌIÍÌÌÌ¦nÍÍÍvÌ®Ì«okÌ²Ì«ÌÍiÌÍÌ\\xadÌ¹Ì\\xa0ÌnÌ¡Ì»Ì®Ì£ÌºgÌ²ÍÍÌ\\xadÍÌ¬Í Ì°tÍÌ¦hÌÌ²eÌ¢Ì¤ ÍÌ¬Ì²ÍfÌ´ÌÍÌ£eÍÍeÌ£Ì¥Ì©lÍÍÍiÍ\\xa0ÍÍÌ¦nÍÍÌÍÌ³Ì®gÍ Ì¨oÍ¡ÍÌªfÌÌ£Ì¬ ÌÌÍÌÍÌ®cÒÍÌ«ÍÍÍÍÍhÌµÌ¤Ì£ÍÍaÍÌÌ¼ÍÍoÌ¼Ì£Ì¥sÍ¢Ì±ÍÌºÌÌ¦Ì».ÌÌ',\n",
       "       'â', 'Â¸ËÃâÄ±ËÃÂ¯ËÂ¿', 'ì¸ëë°í\\xa0ë¥´',\n",
       "       'ÌÌºÍÌ¹Ì¯ÍTÌ±Ì¤ÍÌ¥ÍÍhÍÌ²eÍÍÌ¼ÌÌÌ¼Ì£Í ÍÌÌ±Ì\\xa0ÍÍÍNÍ\\xa0ÍeÌÌ±zÌÌÌÌºÍpÌ¤ÌºÌ¹ÍÌ¯ÍeÍÌ\\xa0Ì»Ì\\xa0rÌ¨Ì¤ÍÌºÌÍÌÌdÍÌ\\xa0ÌÌ\\xadÌ¬ÌiÌ¦ÍÌ©ÍÍÌ¤aÌ\\xa0ÌÌ¬ÍÌnÍÍ Ì»ÌÌ°ÍÍhÌµÍiÌ³ÌvÌ¢ÍeÍÌ\\xadÍ-ÒÌ\\xadÌ©Ì¼ÍmÌ¤Ì\\xadÌ«iÍÍÌÌ¦nÌÍdÌ£Ì ÍÌ¯Ì²ÍoÌ¨ÌÌ¯Ì°Ì²',\n",
       "       0, 'â©testâ©', 'â£', 'Ã¥ÃâÆÂ©ËâËÂ¬â¦Ã¦',\n",
       "       'ç¤¾æç§å\\xad¸é¢èªå\\xad¸ç\\xa0ç©¶æ', 'âªâªtestâª', 'ï»¿',\n",
       "       'â¤ï¸ ð ð ð ð ð ð ð ð ð ð ð ð ð ð', 'â«testâ«', 'â¦testâ§',\n",
       "       '\\'\"\\'\\'\\'\\'\"', 'â¡', 'ð\\xa0ð\\xa0±ð\\xa0¹ð\\xa0±ð\\xa0±¸ð\\xa0²ð\\xa0³'],\n",
       "      dtype=object)"
      ]
     },
     "execution_count": 19,
     "metadata": {},
     "output_type": "execute_result"
    }
   ],
   "source": [
    "new_df.default.unique()"
   ]
  },
  {
   "cell_type": "markdown",
   "id": "8b5540ef",
   "metadata": {},
   "source": [
    "## values up to date (currency)"
   ]
  },
  {
   "cell_type": "markdown",
   "id": "c1b50f9c",
   "metadata": {},
   "source": [
    "### there is no problem for that"
   ]
  },
  {
   "cell_type": "markdown",
   "id": "84edbae8",
   "metadata": {},
   "source": [
    "## data items with value Meta-data (relevancy)"
   ]
  },
  {
   "cell_type": "code",
   "execution_count": 20,
   "id": "f6a5c259",
   "metadata": {},
   "outputs": [
    {
     "data": {
      "text/plain": [
       "array(['Mass Customer', 'Affluent Customer', 'High Net Worth'],\n",
       "      dtype=object)"
      ]
     },
     "execution_count": 20,
     "metadata": {},
     "output_type": "execute_result"
    }
   ],
   "source": [
    "new_df.wealth_segment.unique()"
   ]
  },
  {
   "cell_type": "code",
   "execution_count": 21,
   "id": "74b06a67",
   "metadata": {},
   "outputs": [
    {
     "data": {
      "text/plain": [
       "array(['Executive Secretary', 'Administrative Officer',\n",
       "       'Recruiting Manager', nan, 'Senior Editor', 'Media Manager I',\n",
       "       'Business Systems Development Analyst', 'Senior Quality Engineer',\n",
       "       'Nuclear Power Engineer', 'Developer I', 'Account Executive',\n",
       "       'Junior Executive', 'Media Manager IV', 'Sales Associate',\n",
       "       'Professor', 'Geological Engineer', 'Project Manager',\n",
       "       'Safety Technician I', 'Research Assistant I',\n",
       "       'Accounting Assistant III', 'Editor', 'Research Nurse',\n",
       "       'Safety Technician III', 'Staff Accountant III', 'Legal Assistant',\n",
       "       'Product Engineer', 'Information Systems Manager',\n",
       "       'VP Quality Control', 'Social Worker', 'Senior Cost Accountant',\n",
       "       'Assistant Media Planner', 'Payment Adjustment Coordinator',\n",
       "       'Food Chemist', 'Accountant III', 'Director of Sales',\n",
       "       'Senior Financial Analyst', 'Registered Nurse',\n",
       "       'Biostatistician II', 'Computer Systems Analyst II',\n",
       "       'Software Test Engineer II', 'Paralegal', 'VP Sales',\n",
       "       'Chief Design Engineer', 'Office Assistant III',\n",
       "       'Physical Therapy Assistant', 'Help Desk Operator',\n",
       "       'Web Developer II', 'Research Associate', 'Teacher',\n",
       "       'VP Product Management', 'Statistician II',\n",
       "       'Automation Specialist IV', 'Data Coordiator',\n",
       "       'Software Test Engineer III', 'Internal Auditor',\n",
       "       'Analyst Programmer', 'Occupational Therapist',\n",
       "       'Speech Pathologist', 'Quality Control Specialist',\n",
       "       'Civil Engineer', 'Software Engineer III',\n",
       "       'Community Outreach Specialist', 'Safety Technician IV',\n",
       "       'VP Accounting', 'General Manager', 'Nurse Practicioner',\n",
       "       'Automation Specialist II', 'Marketing Assistant',\n",
       "       'Marketing Manager', 'Staff Scientist', 'Assistant Professor',\n",
       "       'Budget/Accounting Analyst IV', 'Associate Professor',\n",
       "       'Graphic Designer', 'Administrative Assistant II',\n",
       "       'Compensation Analyst', 'Systems Administrator III',\n",
       "       'Financial Advisor', 'Chemical Engineer', 'Web Designer I',\n",
       "       'Senior Developer', 'Office Assistant II', 'Recruiter', 'Operator',\n",
       "       'Programmer Analyst III', 'Quality Engineer', 'Environmental Tech',\n",
       "       'Analog Circuit Design manager', 'Cost Accountant', 'Librarian',\n",
       "       'Structural Analysis Engineer', 'Pharmacist', 'Assistant Manager',\n",
       "       'Accountant I', 'Web Designer III', 'Geologist III',\n",
       "       'Software Test Engineer I', 'Structural Engineer',\n",
       "       'Safety Technician II', 'Web Developer III',\n",
       "       'Programmer Analyst II', 'Design Engineer', 'Statistician I',\n",
       "       'VP Marketing', 'Desktop Support Technician', 'Actuary',\n",
       "       'Database Administrator III', 'Electrical Engineer',\n",
       "       'Tax Accountant', 'Clinical Specialist',\n",
       "       'Database Administrator IV', 'Systems Administrator II',\n",
       "       'Account Coordinator', 'Programmer III',\n",
       "       'Administrative Assistant III', 'Nurse', 'Technical Writer',\n",
       "       'Staff Accountant II', 'Dental Hygienist', 'Sales Representative',\n",
       "       'Budget/Accounting Analyst III', 'Computer Systems Analyst IV',\n",
       "       'Geologist I', 'Financial Analyst', 'Accounting Assistant II',\n",
       "       'Senior Sales Associate', 'Database Administrator II',\n",
       "       'Engineer I', 'Budget/Accounting Analyst I', 'Developer IV',\n",
       "       'Database Administrator I', 'Environmental Specialist',\n",
       "       'Computer Systems Analyst I', 'Account Representative IV',\n",
       "       'Statistician IV', 'Human Resources Manager',\n",
       "       'GIS Technical Architect', 'Programmer IV',\n",
       "       'Accounting Assistant IV', 'Software Engineer IV', 'Programmer II',\n",
       "       'Engineer III', 'Software Consultant', 'Biostatistician IV',\n",
       "       'Help Desk Technician', 'Automation Specialist I', 'Developer III',\n",
       "       'Human Resources Assistant I', 'Geologist IV', 'Media Manager II',\n",
       "       'Statistician III', 'Engineer II', 'Health Coach II',\n",
       "       'Developer II', 'Systems Administrator I', 'Web Developer I',\n",
       "       'Software Engineer II', 'Accounting Assistant I',\n",
       "       'Research Assistant II', 'Programmer Analyst IV', 'Health Coach I',\n",
       "       'Accountant II', 'Automation Specialist III',\n",
       "       'Administrative Assistant I', 'Health Coach IV',\n",
       "       'Media Manager III', 'Account Representative III',\n",
       "       'Web Designer IV', 'Budget/Accounting Analyst II',\n",
       "       'Web Developer IV', 'Programmer I', 'Biostatistician III',\n",
       "       'Software Test Engineer IV', 'Research Assistant IV',\n",
       "       'Account Representative I', 'Accountant IV', 'Biostatistician I',\n",
       "       'Human Resources Assistant IV', 'Administrative Assistant IV',\n",
       "       'Office Assistant I', 'Human Resources Assistant II',\n",
       "       'Mechanical Systems Engineer', 'Engineer IV', 'Health Coach III',\n",
       "       'Office Assistant IV', 'Software Engineer I',\n",
       "       'Human Resources Assistant III', 'Staff Accountant I',\n",
       "       'Computer Systems Analyst III', 'Geologist II', 'Web Designer II',\n",
       "       'Staff Accountant IV', 'Account Representative II',\n",
       "       'Programmer Analyst I', 'Systems Administrator IV',\n",
       "       'Research Assistant III'], dtype=object)"
      ]
     },
     "execution_count": 21,
     "metadata": {},
     "output_type": "execute_result"
    }
   ],
   "source": [
    "new_df.job_title.unique()"
   ]
  },
  {
   "cell_type": "markdown",
   "id": "f8f34eb5",
   "metadata": {},
   "source": [
    "### the first name and last name should not be relevant with the bikes & cycling situation, should be dropped.\n",
    "### the job title column has too many unique values and is hard to be quantified, should be dropped."
   ]
  },
  {
   "cell_type": "markdown",
   "id": "5be38dad",
   "metadata": {},
   "source": [
    "## data containing allowable values (validity)"
   ]
  },
  {
   "cell_type": "markdown",
   "id": "04a3b3b9",
   "metadata": {},
   "source": [
    "### default values"
   ]
  },
  {
   "cell_type": "markdown",
   "id": "6d3e1e61",
   "metadata": {},
   "source": [
    "### gender"
   ]
  },
  {
   "cell_type": "markdown",
   "id": "0e02bc7a",
   "metadata": {},
   "source": [
    "## records that are duplicated (uniqueness)"
   ]
  },
  {
   "cell_type": "code",
   "execution_count": 22,
   "id": "fb7b986d",
   "metadata": {},
   "outputs": [
    {
     "data": {
      "text/plain": [
       "0\n",
       "customer_id                            4000\n",
       "first_name                             3139\n",
       "last_name                              3725\n",
       "gender                                    6\n",
       "past_3_years_bike_related_purchases     100\n",
       "DOB                                    3448\n",
       "job_title                               195\n",
       "job_industry_category                     9\n",
       "wealth_segment                            3\n",
       "deceased_indicator                        2\n",
       "default                                  90\n",
       "owns_car                                  2\n",
       "tenure                                   22\n",
       "dtype: int64"
      ]
     },
     "execution_count": 22,
     "metadata": {},
     "output_type": "execute_result"
    }
   ],
   "source": [
    "new_df.nunique()"
   ]
  },
  {
   "cell_type": "markdown",
   "id": "ffb269b3",
   "metadata": {},
   "source": [
    "### the uniqueness of values are fine"
   ]
  },
  {
   "cell_type": "code",
   "execution_count": 26,
   "id": "91f29d0c",
   "metadata": {},
   "outputs": [
    {
     "data": {
      "text/plain": [
       "0"
      ]
     },
     "execution_count": 26,
     "metadata": {},
     "output_type": "execute_result"
    }
   ],
   "source": [
    "new_df.duplicated().sum()"
   ]
  },
  {
   "cell_type": "markdown",
   "id": "7106b935",
   "metadata": {},
   "source": [
    "# Customer Addresses data quality assessment"
   ]
  },
  {
   "cell_type": "code",
   "execution_count": 30,
   "id": "a7eb825d",
   "metadata": {},
   "outputs": [],
   "source": [
    "scpl_data_CustomerAddress  =  pd.read_excel('/Users/zhenliu15471/code/zliu15471/KPMG/raw_data/KPMG_VI_New_raw_data_update_final.xlsx','CustomerAddress')"
   ]
  },
  {
   "cell_type": "code",
   "execution_count": 31,
   "id": "f32699ed",
   "metadata": {},
   "outputs": [
    {
     "data": {
      "text/html": [
       "<div>\n",
       "<style scoped>\n",
       "    .dataframe tbody tr th:only-of-type {\n",
       "        vertical-align: middle;\n",
       "    }\n",
       "\n",
       "    .dataframe tbody tr th {\n",
       "        vertical-align: top;\n",
       "    }\n",
       "\n",
       "    .dataframe thead th {\n",
       "        text-align: right;\n",
       "    }\n",
       "</style>\n",
       "<table border=\"1\" class=\"dataframe\">\n",
       "  <thead>\n",
       "    <tr style=\"text-align: right;\">\n",
       "      <th></th>\n",
       "      <th>Note: The data and information in this document is reflective of a hypothetical situation and client. This document is to be used for KPMG Virtual Internship purposes only.</th>\n",
       "      <th>Unnamed: 1</th>\n",
       "      <th>Unnamed: 2</th>\n",
       "      <th>Unnamed: 3</th>\n",
       "      <th>Unnamed: 4</th>\n",
       "      <th>Unnamed: 5</th>\n",
       "    </tr>\n",
       "  </thead>\n",
       "  <tbody>\n",
       "    <tr>\n",
       "      <th>0</th>\n",
       "      <td>customer_id</td>\n",
       "      <td>address</td>\n",
       "      <td>postcode</td>\n",
       "      <td>state</td>\n",
       "      <td>country</td>\n",
       "      <td>property_valuation</td>\n",
       "    </tr>\n",
       "    <tr>\n",
       "      <th>1</th>\n",
       "      <td>1</td>\n",
       "      <td>060 Morning Avenue</td>\n",
       "      <td>2016</td>\n",
       "      <td>New South Wales</td>\n",
       "      <td>Australia</td>\n",
       "      <td>10</td>\n",
       "    </tr>\n",
       "    <tr>\n",
       "      <th>2</th>\n",
       "      <td>2</td>\n",
       "      <td>6 Meadow Vale Court</td>\n",
       "      <td>2153</td>\n",
       "      <td>New South Wales</td>\n",
       "      <td>Australia</td>\n",
       "      <td>10</td>\n",
       "    </tr>\n",
       "    <tr>\n",
       "      <th>3</th>\n",
       "      <td>4</td>\n",
       "      <td>0 Holy Cross Court</td>\n",
       "      <td>4211</td>\n",
       "      <td>QLD</td>\n",
       "      <td>Australia</td>\n",
       "      <td>9</td>\n",
       "    </tr>\n",
       "    <tr>\n",
       "      <th>4</th>\n",
       "      <td>5</td>\n",
       "      <td>17979 Del Mar Point</td>\n",
       "      <td>2448</td>\n",
       "      <td>New South Wales</td>\n",
       "      <td>Australia</td>\n",
       "      <td>4</td>\n",
       "    </tr>\n",
       "  </tbody>\n",
       "</table>\n",
       "</div>"
      ],
      "text/plain": [
       "  Note: The data and information in this document is reflective of a hypothetical situation and client. This document is to be used for KPMG Virtual Internship purposes only.   \\\n",
       "0                                        customer_id                                                                                                                              \n",
       "1                                                  1                                                                                                                              \n",
       "2                                                  2                                                                                                                              \n",
       "3                                                  4                                                                                                                              \n",
       "4                                                  5                                                                                                                              \n",
       "\n",
       "            Unnamed: 1 Unnamed: 2       Unnamed: 3 Unnamed: 4  \\\n",
       "0              address   postcode            state    country   \n",
       "1   060 Morning Avenue       2016  New South Wales  Australia   \n",
       "2  6 Meadow Vale Court       2153  New South Wales  Australia   \n",
       "3   0 Holy Cross Court       4211              QLD  Australia   \n",
       "4  17979 Del Mar Point       2448  New South Wales  Australia   \n",
       "\n",
       "           Unnamed: 5  \n",
       "0  property_valuation  \n",
       "1                  10  \n",
       "2                  10  \n",
       "3                   9  \n",
       "4                   4  "
      ]
     },
     "execution_count": 31,
     "metadata": {},
     "output_type": "execute_result"
    }
   ],
   "source": [
    "scpl_data_CustomerAddress.head()"
   ]
  },
  {
   "cell_type": "code",
   "execution_count": 32,
   "id": "d134d9d3",
   "metadata": {},
   "outputs": [],
   "source": [
    "headers = scpl_data_CustomerAddress.iloc[0]\n",
    "new_df_a  = pd.DataFrame(scpl_data_CustomerAddress.values[1:], columns=headers)"
   ]
  },
  {
   "cell_type": "code",
   "execution_count": 33,
   "id": "e65a90d2",
   "metadata": {},
   "outputs": [
    {
     "data": {
      "text/html": [
       "<div>\n",
       "<style scoped>\n",
       "    .dataframe tbody tr th:only-of-type {\n",
       "        vertical-align: middle;\n",
       "    }\n",
       "\n",
       "    .dataframe tbody tr th {\n",
       "        vertical-align: top;\n",
       "    }\n",
       "\n",
       "    .dataframe thead th {\n",
       "        text-align: right;\n",
       "    }\n",
       "</style>\n",
       "<table border=\"1\" class=\"dataframe\">\n",
       "  <thead>\n",
       "    <tr style=\"text-align: right;\">\n",
       "      <th></th>\n",
       "      <th>customer_id</th>\n",
       "      <th>address</th>\n",
       "      <th>postcode</th>\n",
       "      <th>state</th>\n",
       "      <th>country</th>\n",
       "      <th>property_valuation</th>\n",
       "    </tr>\n",
       "  </thead>\n",
       "  <tbody>\n",
       "    <tr>\n",
       "      <th>0</th>\n",
       "      <td>1</td>\n",
       "      <td>060 Morning Avenue</td>\n",
       "      <td>2016</td>\n",
       "      <td>New South Wales</td>\n",
       "      <td>Australia</td>\n",
       "      <td>10</td>\n",
       "    </tr>\n",
       "    <tr>\n",
       "      <th>1</th>\n",
       "      <td>2</td>\n",
       "      <td>6 Meadow Vale Court</td>\n",
       "      <td>2153</td>\n",
       "      <td>New South Wales</td>\n",
       "      <td>Australia</td>\n",
       "      <td>10</td>\n",
       "    </tr>\n",
       "    <tr>\n",
       "      <th>2</th>\n",
       "      <td>4</td>\n",
       "      <td>0 Holy Cross Court</td>\n",
       "      <td>4211</td>\n",
       "      <td>QLD</td>\n",
       "      <td>Australia</td>\n",
       "      <td>9</td>\n",
       "    </tr>\n",
       "    <tr>\n",
       "      <th>3</th>\n",
       "      <td>5</td>\n",
       "      <td>17979 Del Mar Point</td>\n",
       "      <td>2448</td>\n",
       "      <td>New South Wales</td>\n",
       "      <td>Australia</td>\n",
       "      <td>4</td>\n",
       "    </tr>\n",
       "    <tr>\n",
       "      <th>4</th>\n",
       "      <td>6</td>\n",
       "      <td>9 Oakridge Court</td>\n",
       "      <td>3216</td>\n",
       "      <td>VIC</td>\n",
       "      <td>Australia</td>\n",
       "      <td>9</td>\n",
       "    </tr>\n",
       "  </tbody>\n",
       "</table>\n",
       "</div>"
      ],
      "text/plain": [
       "0 customer_id              address postcode            state    country  \\\n",
       "0           1   060 Morning Avenue     2016  New South Wales  Australia   \n",
       "1           2  6 Meadow Vale Court     2153  New South Wales  Australia   \n",
       "2           4   0 Holy Cross Court     4211              QLD  Australia   \n",
       "3           5  17979 Del Mar Point     2448  New South Wales  Australia   \n",
       "4           6     9 Oakridge Court     3216              VIC  Australia   \n",
       "\n",
       "0 property_valuation  \n",
       "0                 10  \n",
       "1                 10  \n",
       "2                  9  \n",
       "3                  4  \n",
       "4                  9  "
      ]
     },
     "execution_count": 33,
     "metadata": {},
     "output_type": "execute_result"
    }
   ],
   "source": [
    "new_df_a.head()"
   ]
  },
  {
   "cell_type": "code",
   "execution_count": 34,
   "id": "4b7e2a97",
   "metadata": {},
   "outputs": [
    {
     "data": {
      "text/plain": [
       "object    6\n",
       "dtype: int64"
      ]
     },
     "execution_count": 34,
     "metadata": {},
     "output_type": "execute_result"
    }
   ],
   "source": [
    "new_df_a.dtypes.value_counts()"
   ]
  },
  {
   "cell_type": "code",
   "execution_count": 35,
   "id": "e6fa7adc",
   "metadata": {},
   "outputs": [
    {
     "data": {
      "text/plain": [
       "0\n",
       "customer_id           3999\n",
       "address               3996\n",
       "postcode               873\n",
       "state                    5\n",
       "country                  1\n",
       "property_valuation      12\n",
       "dtype: int64"
      ]
     },
     "execution_count": 35,
     "metadata": {},
     "output_type": "execute_result"
    }
   ],
   "source": [
    "new_df_a.nunique()"
   ]
  },
  {
   "cell_type": "code",
   "execution_count": 36,
   "id": "c293724b",
   "metadata": {},
   "outputs": [
    {
     "data": {
      "text/plain": [
       "0"
      ]
     },
     "execution_count": 36,
     "metadata": {},
     "output_type": "execute_result"
    }
   ],
   "source": [
    "new_df_a.duplicated().sum()"
   ]
  },
  {
   "cell_type": "code",
   "execution_count": 37,
   "id": "dad76b82",
   "metadata": {},
   "outputs": [
    {
     "data": {
      "text/plain": [
       "0\n",
       "customer_id           0.0\n",
       "address               0.0\n",
       "postcode              0.0\n",
       "state                 0.0\n",
       "country               0.0\n",
       "property_valuation    0.0\n",
       "dtype: float64"
      ]
     },
     "execution_count": 37,
     "metadata": {},
     "output_type": "execute_result"
    }
   ],
   "source": [
    "(new_df_a.isnull().sum()/len(new_df_a))*100"
   ]
  },
  {
   "cell_type": "code",
   "execution_count": 40,
   "id": "7e5f8578",
   "metadata": {},
   "outputs": [
    {
     "data": {
      "text/plain": [
       "array(['New South Wales', 'QLD', 'VIC', 'NSW', 'Victoria'], dtype=object)"
      ]
     },
     "execution_count": 40,
     "metadata": {},
     "output_type": "execute_result"
    }
   ],
   "source": [
    "new_df_a.state.unique()"
   ]
  },
  {
   "cell_type": "markdown",
   "id": "c2317b86",
   "metadata": {},
   "source": [
    "## for the state column, the 'VIC' and 'Victoria', 'New South Wales' and 'NSW' belong to same values and should be replaced by 'VIC' and 'NSW'\n",
    "## for the address column, as the postcode is shown to represent the information of location and the values of address are hard to be quantified, the address column should be dropped.\n",
    "## the country column is only one value and can't reflect any correlation, should be dropped."
   ]
  },
  {
   "cell_type": "markdown",
   "id": "0f650096",
   "metadata": {},
   "source": [
    "# Transactions "
   ]
  },
  {
   "cell_type": "code",
   "execution_count": 41,
   "id": "61f19068",
   "metadata": {},
   "outputs": [],
   "source": [
    "scpl_data_transactions  =  pd.read_excel('/Users/zhenliu15471/code/zliu15471/KPMG/raw_data/KPMG_VI_New_raw_data_update_final.xlsx','Transactions')"
   ]
  },
  {
   "cell_type": "code",
   "execution_count": 42,
   "id": "35c02f7c",
   "metadata": {},
   "outputs": [
    {
     "data": {
      "text/html": [
       "<div>\n",
       "<style scoped>\n",
       "    .dataframe tbody tr th:only-of-type {\n",
       "        vertical-align: middle;\n",
       "    }\n",
       "\n",
       "    .dataframe tbody tr th {\n",
       "        vertical-align: top;\n",
       "    }\n",
       "\n",
       "    .dataframe thead th {\n",
       "        text-align: right;\n",
       "    }\n",
       "</style>\n",
       "<table border=\"1\" class=\"dataframe\">\n",
       "  <thead>\n",
       "    <tr style=\"text-align: right;\">\n",
       "      <th></th>\n",
       "      <th>Note: The data and information in this document is reflective of a hypothetical situation and client. This document is to be used for KPMG Virtual Internship purposes only.</th>\n",
       "      <th>Unnamed: 1</th>\n",
       "      <th>Unnamed: 2</th>\n",
       "      <th>Unnamed: 3</th>\n",
       "      <th>Unnamed: 4</th>\n",
       "      <th>Unnamed: 5</th>\n",
       "      <th>Unnamed: 6</th>\n",
       "      <th>Unnamed: 7</th>\n",
       "      <th>Unnamed: 8</th>\n",
       "      <th>Unnamed: 9</th>\n",
       "      <th>Unnamed: 10</th>\n",
       "      <th>Unnamed: 11</th>\n",
       "      <th>Unnamed: 12</th>\n",
       "    </tr>\n",
       "  </thead>\n",
       "  <tbody>\n",
       "    <tr>\n",
       "      <th>0</th>\n",
       "      <td>transaction_id</td>\n",
       "      <td>product_id</td>\n",
       "      <td>customer_id</td>\n",
       "      <td>transaction_date</td>\n",
       "      <td>online_order</td>\n",
       "      <td>order_status</td>\n",
       "      <td>brand</td>\n",
       "      <td>product_line</td>\n",
       "      <td>product_class</td>\n",
       "      <td>product_size</td>\n",
       "      <td>list_price</td>\n",
       "      <td>standard_cost</td>\n",
       "      <td>product_first_sold_date</td>\n",
       "    </tr>\n",
       "    <tr>\n",
       "      <th>1</th>\n",
       "      <td>1</td>\n",
       "      <td>2</td>\n",
       "      <td>2950</td>\n",
       "      <td>2017-02-25 00:00:00</td>\n",
       "      <td>False</td>\n",
       "      <td>Approved</td>\n",
       "      <td>Solex</td>\n",
       "      <td>Standard</td>\n",
       "      <td>medium</td>\n",
       "      <td>medium</td>\n",
       "      <td>71.49</td>\n",
       "      <td>53.62</td>\n",
       "      <td>41245</td>\n",
       "    </tr>\n",
       "    <tr>\n",
       "      <th>2</th>\n",
       "      <td>2</td>\n",
       "      <td>3</td>\n",
       "      <td>3120</td>\n",
       "      <td>2017-05-21 00:00:00</td>\n",
       "      <td>True</td>\n",
       "      <td>Approved</td>\n",
       "      <td>Trek Bicycles</td>\n",
       "      <td>Standard</td>\n",
       "      <td>medium</td>\n",
       "      <td>large</td>\n",
       "      <td>2091.47</td>\n",
       "      <td>388.92</td>\n",
       "      <td>41701</td>\n",
       "    </tr>\n",
       "    <tr>\n",
       "      <th>3</th>\n",
       "      <td>3</td>\n",
       "      <td>37</td>\n",
       "      <td>402</td>\n",
       "      <td>2017-10-16 00:00:00</td>\n",
       "      <td>False</td>\n",
       "      <td>Approved</td>\n",
       "      <td>OHM Cycles</td>\n",
       "      <td>Standard</td>\n",
       "      <td>low</td>\n",
       "      <td>medium</td>\n",
       "      <td>1793.43</td>\n",
       "      <td>248.82</td>\n",
       "      <td>36361</td>\n",
       "    </tr>\n",
       "    <tr>\n",
       "      <th>4</th>\n",
       "      <td>4</td>\n",
       "      <td>88</td>\n",
       "      <td>3135</td>\n",
       "      <td>2017-08-31 00:00:00</td>\n",
       "      <td>False</td>\n",
       "      <td>Approved</td>\n",
       "      <td>Norco Bicycles</td>\n",
       "      <td>Standard</td>\n",
       "      <td>medium</td>\n",
       "      <td>medium</td>\n",
       "      <td>1198.46</td>\n",
       "      <td>381.1</td>\n",
       "      <td>36145</td>\n",
       "    </tr>\n",
       "  </tbody>\n",
       "</table>\n",
       "</div>"
      ],
      "text/plain": [
       "  Note: The data and information in this document is reflective of a hypothetical situation and client. This document is to be used for KPMG Virtual Internship purposes only.   \\\n",
       "0                                     transaction_id                                                                                                                              \n",
       "1                                                  1                                                                                                                              \n",
       "2                                                  2                                                                                                                              \n",
       "3                                                  3                                                                                                                              \n",
       "4                                                  4                                                                                                                              \n",
       "\n",
       "   Unnamed: 1   Unnamed: 2           Unnamed: 3    Unnamed: 4    Unnamed: 5  \\\n",
       "0  product_id  customer_id     transaction_date  online_order  order_status   \n",
       "1           2         2950  2017-02-25 00:00:00         False      Approved   \n",
       "2           3         3120  2017-05-21 00:00:00          True      Approved   \n",
       "3          37          402  2017-10-16 00:00:00         False      Approved   \n",
       "4          88         3135  2017-08-31 00:00:00         False      Approved   \n",
       "\n",
       "       Unnamed: 6    Unnamed: 7     Unnamed: 8    Unnamed: 9 Unnamed: 10  \\\n",
       "0           brand  product_line  product_class  product_size  list_price   \n",
       "1           Solex      Standard         medium        medium       71.49   \n",
       "2   Trek Bicycles      Standard         medium         large     2091.47   \n",
       "3      OHM Cycles      Standard            low        medium     1793.43   \n",
       "4  Norco Bicycles      Standard         medium        medium     1198.46   \n",
       "\n",
       "     Unnamed: 11              Unnamed: 12  \n",
       "0  standard_cost  product_first_sold_date  \n",
       "1          53.62                    41245  \n",
       "2         388.92                    41701  \n",
       "3         248.82                    36361  \n",
       "4          381.1                    36145  "
      ]
     },
     "execution_count": 42,
     "metadata": {},
     "output_type": "execute_result"
    }
   ],
   "source": [
    "scpl_data_transactions.head()"
   ]
  },
  {
   "cell_type": "code",
   "execution_count": 43,
   "id": "5e4fa928",
   "metadata": {},
   "outputs": [],
   "source": [
    "headers = scpl_data_transactions.iloc[0]\n",
    "new_df_t  = pd.DataFrame(scpl_data_transactions.values[1:], columns=headers)"
   ]
  },
  {
   "cell_type": "code",
   "execution_count": 44,
   "id": "52ae03c1",
   "metadata": {},
   "outputs": [
    {
     "data": {
      "text/html": [
       "<div>\n",
       "<style scoped>\n",
       "    .dataframe tbody tr th:only-of-type {\n",
       "        vertical-align: middle;\n",
       "    }\n",
       "\n",
       "    .dataframe tbody tr th {\n",
       "        vertical-align: top;\n",
       "    }\n",
       "\n",
       "    .dataframe thead th {\n",
       "        text-align: right;\n",
       "    }\n",
       "</style>\n",
       "<table border=\"1\" class=\"dataframe\">\n",
       "  <thead>\n",
       "    <tr style=\"text-align: right;\">\n",
       "      <th></th>\n",
       "      <th>transaction_id</th>\n",
       "      <th>product_id</th>\n",
       "      <th>customer_id</th>\n",
       "      <th>transaction_date</th>\n",
       "      <th>online_order</th>\n",
       "      <th>order_status</th>\n",
       "      <th>brand</th>\n",
       "      <th>product_line</th>\n",
       "      <th>product_class</th>\n",
       "      <th>product_size</th>\n",
       "      <th>list_price</th>\n",
       "      <th>standard_cost</th>\n",
       "      <th>product_first_sold_date</th>\n",
       "    </tr>\n",
       "  </thead>\n",
       "  <tbody>\n",
       "    <tr>\n",
       "      <th>0</th>\n",
       "      <td>1</td>\n",
       "      <td>2</td>\n",
       "      <td>2950</td>\n",
       "      <td>2017-02-25</td>\n",
       "      <td>False</td>\n",
       "      <td>Approved</td>\n",
       "      <td>Solex</td>\n",
       "      <td>Standard</td>\n",
       "      <td>medium</td>\n",
       "      <td>medium</td>\n",
       "      <td>71.49</td>\n",
       "      <td>53.62</td>\n",
       "      <td>41245</td>\n",
       "    </tr>\n",
       "    <tr>\n",
       "      <th>1</th>\n",
       "      <td>2</td>\n",
       "      <td>3</td>\n",
       "      <td>3120</td>\n",
       "      <td>2017-05-21</td>\n",
       "      <td>True</td>\n",
       "      <td>Approved</td>\n",
       "      <td>Trek Bicycles</td>\n",
       "      <td>Standard</td>\n",
       "      <td>medium</td>\n",
       "      <td>large</td>\n",
       "      <td>2091.47</td>\n",
       "      <td>388.92</td>\n",
       "      <td>41701</td>\n",
       "    </tr>\n",
       "    <tr>\n",
       "      <th>2</th>\n",
       "      <td>3</td>\n",
       "      <td>37</td>\n",
       "      <td>402</td>\n",
       "      <td>2017-10-16</td>\n",
       "      <td>False</td>\n",
       "      <td>Approved</td>\n",
       "      <td>OHM Cycles</td>\n",
       "      <td>Standard</td>\n",
       "      <td>low</td>\n",
       "      <td>medium</td>\n",
       "      <td>1793.43</td>\n",
       "      <td>248.82</td>\n",
       "      <td>36361</td>\n",
       "    </tr>\n",
       "    <tr>\n",
       "      <th>3</th>\n",
       "      <td>4</td>\n",
       "      <td>88</td>\n",
       "      <td>3135</td>\n",
       "      <td>2017-08-31</td>\n",
       "      <td>False</td>\n",
       "      <td>Approved</td>\n",
       "      <td>Norco Bicycles</td>\n",
       "      <td>Standard</td>\n",
       "      <td>medium</td>\n",
       "      <td>medium</td>\n",
       "      <td>1198.46</td>\n",
       "      <td>381.1</td>\n",
       "      <td>36145</td>\n",
       "    </tr>\n",
       "    <tr>\n",
       "      <th>4</th>\n",
       "      <td>5</td>\n",
       "      <td>78</td>\n",
       "      <td>787</td>\n",
       "      <td>2017-10-01</td>\n",
       "      <td>True</td>\n",
       "      <td>Approved</td>\n",
       "      <td>Giant Bicycles</td>\n",
       "      <td>Standard</td>\n",
       "      <td>medium</td>\n",
       "      <td>large</td>\n",
       "      <td>1765.3</td>\n",
       "      <td>709.48</td>\n",
       "      <td>42226</td>\n",
       "    </tr>\n",
       "    <tr>\n",
       "      <th>...</th>\n",
       "      <td>...</td>\n",
       "      <td>...</td>\n",
       "      <td>...</td>\n",
       "      <td>...</td>\n",
       "      <td>...</td>\n",
       "      <td>...</td>\n",
       "      <td>...</td>\n",
       "      <td>...</td>\n",
       "      <td>...</td>\n",
       "      <td>...</td>\n",
       "      <td>...</td>\n",
       "      <td>...</td>\n",
       "      <td>...</td>\n",
       "    </tr>\n",
       "    <tr>\n",
       "      <th>19995</th>\n",
       "      <td>19996</td>\n",
       "      <td>51</td>\n",
       "      <td>1018</td>\n",
       "      <td>2017-06-24</td>\n",
       "      <td>True</td>\n",
       "      <td>Approved</td>\n",
       "      <td>OHM Cycles</td>\n",
       "      <td>Standard</td>\n",
       "      <td>high</td>\n",
       "      <td>medium</td>\n",
       "      <td>2005.66</td>\n",
       "      <td>1203.4</td>\n",
       "      <td>37823</td>\n",
       "    </tr>\n",
       "    <tr>\n",
       "      <th>19996</th>\n",
       "      <td>19997</td>\n",
       "      <td>41</td>\n",
       "      <td>127</td>\n",
       "      <td>2017-11-09</td>\n",
       "      <td>True</td>\n",
       "      <td>Approved</td>\n",
       "      <td>Solex</td>\n",
       "      <td>Road</td>\n",
       "      <td>medium</td>\n",
       "      <td>medium</td>\n",
       "      <td>416.98</td>\n",
       "      <td>312.74</td>\n",
       "      <td>35560</td>\n",
       "    </tr>\n",
       "    <tr>\n",
       "      <th>19997</th>\n",
       "      <td>19998</td>\n",
       "      <td>87</td>\n",
       "      <td>2284</td>\n",
       "      <td>2017-04-14</td>\n",
       "      <td>True</td>\n",
       "      <td>Approved</td>\n",
       "      <td>OHM Cycles</td>\n",
       "      <td>Standard</td>\n",
       "      <td>medium</td>\n",
       "      <td>medium</td>\n",
       "      <td>1636.9</td>\n",
       "      <td>44.71</td>\n",
       "      <td>40410</td>\n",
       "    </tr>\n",
       "    <tr>\n",
       "      <th>19998</th>\n",
       "      <td>19999</td>\n",
       "      <td>6</td>\n",
       "      <td>2764</td>\n",
       "      <td>2017-07-03</td>\n",
       "      <td>False</td>\n",
       "      <td>Approved</td>\n",
       "      <td>OHM Cycles</td>\n",
       "      <td>Standard</td>\n",
       "      <td>high</td>\n",
       "      <td>medium</td>\n",
       "      <td>227.88</td>\n",
       "      <td>136.73</td>\n",
       "      <td>38216</td>\n",
       "    </tr>\n",
       "    <tr>\n",
       "      <th>19999</th>\n",
       "      <td>20000</td>\n",
       "      <td>11</td>\n",
       "      <td>1144</td>\n",
       "      <td>2017-09-22</td>\n",
       "      <td>True</td>\n",
       "      <td>Approved</td>\n",
       "      <td>Trek Bicycles</td>\n",
       "      <td>Standard</td>\n",
       "      <td>medium</td>\n",
       "      <td>small</td>\n",
       "      <td>1775.81</td>\n",
       "      <td>1580.47</td>\n",
       "      <td>36334</td>\n",
       "    </tr>\n",
       "  </tbody>\n",
       "</table>\n",
       "<p>20000 rows × 13 columns</p>\n",
       "</div>"
      ],
      "text/plain": [
       "0     transaction_id product_id customer_id transaction_date online_order  \\\n",
       "0                  1          2        2950       2017-02-25        False   \n",
       "1                  2          3        3120       2017-05-21         True   \n",
       "2                  3         37         402       2017-10-16        False   \n",
       "3                  4         88        3135       2017-08-31        False   \n",
       "4                  5         78         787       2017-10-01         True   \n",
       "...              ...        ...         ...              ...          ...   \n",
       "19995          19996         51        1018       2017-06-24         True   \n",
       "19996          19997         41         127       2017-11-09         True   \n",
       "19997          19998         87        2284       2017-04-14         True   \n",
       "19998          19999          6        2764       2017-07-03        False   \n",
       "19999          20000         11        1144       2017-09-22         True   \n",
       "\n",
       "0     order_status           brand product_line product_class product_size  \\\n",
       "0         Approved           Solex     Standard        medium       medium   \n",
       "1         Approved   Trek Bicycles     Standard        medium        large   \n",
       "2         Approved      OHM Cycles     Standard           low       medium   \n",
       "3         Approved  Norco Bicycles     Standard        medium       medium   \n",
       "4         Approved  Giant Bicycles     Standard        medium        large   \n",
       "...            ...             ...          ...           ...          ...   \n",
       "19995     Approved      OHM Cycles     Standard          high       medium   \n",
       "19996     Approved           Solex         Road        medium       medium   \n",
       "19997     Approved      OHM Cycles     Standard        medium       medium   \n",
       "19998     Approved      OHM Cycles     Standard          high       medium   \n",
       "19999     Approved   Trek Bicycles     Standard        medium        small   \n",
       "\n",
       "0     list_price standard_cost product_first_sold_date  \n",
       "0          71.49         53.62                   41245  \n",
       "1        2091.47        388.92                   41701  \n",
       "2        1793.43        248.82                   36361  \n",
       "3        1198.46         381.1                   36145  \n",
       "4         1765.3        709.48                   42226  \n",
       "...          ...           ...                     ...  \n",
       "19995    2005.66        1203.4                   37823  \n",
       "19996     416.98        312.74                   35560  \n",
       "19997     1636.9         44.71                   40410  \n",
       "19998     227.88        136.73                   38216  \n",
       "19999    1775.81       1580.47                   36334  \n",
       "\n",
       "[20000 rows x 13 columns]"
      ]
     },
     "execution_count": 44,
     "metadata": {},
     "output_type": "execute_result"
    }
   ],
   "source": [
    "new_df_t"
   ]
  },
  {
   "cell_type": "code",
   "execution_count": 46,
   "id": "b792398d",
   "metadata": {},
   "outputs": [
    {
     "data": {
      "text/plain": [
       "object            12\n",
       "datetime64[ns]     1\n",
       "dtype: int64"
      ]
     },
     "execution_count": 46,
     "metadata": {},
     "output_type": "execute_result"
    }
   ],
   "source": [
    "new_df_t.dtypes.value_counts()"
   ]
  },
  {
   "cell_type": "code",
   "execution_count": 47,
   "id": "61405120",
   "metadata": {
    "scrolled": true
   },
   "outputs": [
    {
     "data": {
      "text/plain": [
       "0\n",
       "transaction_id             20000\n",
       "product_id                   101\n",
       "customer_id                 3494\n",
       "transaction_date             364\n",
       "online_order                   2\n",
       "order_status                   2\n",
       "brand                          6\n",
       "product_line                   4\n",
       "product_class                  3\n",
       "product_size                   3\n",
       "list_price                   296\n",
       "standard_cost                103\n",
       "product_first_sold_date      100\n",
       "dtype: int64"
      ]
     },
     "execution_count": 47,
     "metadata": {},
     "output_type": "execute_result"
    }
   ],
   "source": [
    "new_df_t.nunique()"
   ]
  },
  {
   "cell_type": "code",
   "execution_count": 50,
   "id": "a8745f8d",
   "metadata": {},
   "outputs": [
    {
     "data": {
      "text/plain": [
       "0\n",
       "transaction_id             0.000\n",
       "product_id                 0.000\n",
       "customer_id                0.000\n",
       "transaction_date           0.000\n",
       "online_order               1.800\n",
       "order_status               0.000\n",
       "brand                      0.985\n",
       "product_line               0.985\n",
       "product_class              0.985\n",
       "product_size               0.985\n",
       "list_price                 0.000\n",
       "standard_cost              0.985\n",
       "product_first_sold_date    0.985\n",
       "dtype: float64"
      ]
     },
     "execution_count": 50,
     "metadata": {},
     "output_type": "execute_result"
    }
   ],
   "source": [
    "(new_df_t.isnull().sum()/len(new_df_t))*100"
   ]
  },
  {
   "cell_type": "code",
   "execution_count": 53,
   "id": "83f7907a",
   "metadata": {},
   "outputs": [
    {
     "name": "stderr",
     "output_type": "stream",
     "text": [
      "/var/folders/4y/7vss76ld1rj1ybqx7xpskc5m0000gn/T/ipykernel_45118/1215687526.py:1: FutureWarning: Treating datetime data as categorical rather than numeric in `.describe` is deprecated and will be removed in a future version of pandas. Specify `datetime_is_numeric=True` to silence this warning and adopt the future behavior now.\n",
      "  new_df_t.transaction_date.describe()\n"
     ]
    },
    {
     "data": {
      "text/plain": [
       "count                   20000\n",
       "unique                    364\n",
       "top       2017-02-14 00:00:00\n",
       "freq                       82\n",
       "first     2017-01-01 00:00:00\n",
       "last      2017-12-30 00:00:00\n",
       "Name: transaction_date, dtype: object"
      ]
     },
     "execution_count": 53,
     "metadata": {},
     "output_type": "execute_result"
    }
   ],
   "source": [
    "new_df_t.transaction_date.describe()"
   ]
  },
  {
   "cell_type": "markdown",
   "id": "b1491bc1",
   "metadata": {},
   "source": [
    "## the transaction_date contain values of one year, not just latest three month. should filter the dates\n",
    "## confused about the product_first_sold_date because these values are not date just numbers.\n",
    "## there are still some missing values in the columns and only online_order is over 1%, the missing values can be filled \n"
   ]
  },
  {
   "cell_type": "code",
   "execution_count": null,
   "id": "72f81c0a",
   "metadata": {},
   "outputs": [],
   "source": []
  }
 ],
 "metadata": {
  "kernelspec": {
   "display_name": "Python 3 (ipykernel)",
   "language": "python",
   "name": "python3"
  },
  "language_info": {
   "codemirror_mode": {
    "name": "ipython",
    "version": 3
   },
   "file_extension": ".py",
   "mimetype": "text/x-python",
   "name": "python",
   "nbconvert_exporter": "python",
   "pygments_lexer": "ipython3",
   "version": "3.8.12"
  },
  "toc": {
   "base_numbering": 1,
   "nav_menu": {},
   "number_sections": true,
   "sideBar": true,
   "skip_h1_title": false,
   "title_cell": "Table of Contents",
   "title_sidebar": "Contents",
   "toc_cell": false,
   "toc_position": {},
   "toc_section_display": true,
   "toc_window_display": false
  }
 },
 "nbformat": 4,
 "nbformat_minor": 5
}
